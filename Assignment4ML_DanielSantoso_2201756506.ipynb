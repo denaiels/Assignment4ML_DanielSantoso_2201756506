{
 "cells": [
  {
   "cell_type": "markdown",
   "metadata": {},
   "source": [
    "Nama   : Daniel Santoso\n",
    "NIM    : 2201756506\n",
    "Kelas  : LB01\n",
    "\n",
    "Given data of Singapore Airbnb which can be downloaded in this link:\n",
    "    \n",
    "https://www.kaggle.com/jojoker/singapore-airbnb\n",
    "    \n",
    "1. You have identified the discrete and continuous random variables in the previous section. Now, you can also identify the distribution for both discrete and continuous variables.\n",
    "\n",
    "2. Try in Google Collaboratory:\n",
    "    • Plot the data on a histogram\n",
    "    • Find a well known distribution\n",
    "    • Generate and plot the pdf on top of your histogram\n",
    "\n",
    "Jawaban:\n",
    "1. Terlampir di file MS Word.\n",
    "2. Di bawah ini:"
   ]
  },
  {
   "cell_type": "code",
   "execution_count": 52,
   "metadata": {},
   "outputs": [
    {
     "name": "stdout",
     "output_type": "stream",
     "text": [
      "id                                  int64\n",
      "name                               object\n",
      "host_id                             int64\n",
      "host_name                          object\n",
      "neighbourhood_group                object\n",
      "neighbourhood                      object\n",
      "latitude                          float64\n",
      "longitude                         float64\n",
      "room_type                          object\n",
      "price                               int64\n",
      "minimum_nights                      int64\n",
      "number_of_reviews                   int64\n",
      "last_review                        object\n",
      "reviews_per_month                 float64\n",
      "calculated_host_listings_count      int64\n",
      "availability_365                    int64\n",
      "dtype: object\n",
      "            id                                               name    host_id  \\\n",
      "0        49091                  COZICOMFORT LONG TERM STAY ROOM 2     266763   \n",
      "1        50646                    Pleasant Room along Bukit Timah     227796   \n",
      "2        56334                                        COZICOMFORT     266763   \n",
      "3        71609                Ensuite Room (Room 1 & 2) near EXPO     367042   \n",
      "4        71896                    B&B  Room 1 near Airport & EXPO     367042   \n",
      "...        ...                                                ...        ...   \n",
      "7902  38105126  Loft 2 pax near Haw Par / Pasir Panjang. Free ...  278109833   \n",
      "7903  38108273                         3bedroom luxury at Orchard  238891646   \n",
      "7904  38109336    [ Farrer Park ] New City Fringe CBD Mins to MRT  281448565   \n",
      "7905  38110493          Cheap Master Room in Central of Singapore  243835202   \n",
      "7906  38112762  Amazing room with private bathroom walk to Orc...   28788520   \n",
      "\n",
      "      host_name neighbourhood_group neighbourhood  latitude  longitude  \\\n",
      "0     Francesca        North Region     Woodlands   1.44255  103.79580   \n",
      "1       Sujatha      Central Region   Bukit Timah   1.33235  103.78521   \n",
      "2     Francesca        North Region     Woodlands   1.44246  103.79667   \n",
      "3       Belinda         East Region      Tampines   1.34541  103.95712   \n",
      "4       Belinda         East Region      Tampines   1.34567  103.95963   \n",
      "...         ...                 ...           ...       ...        ...   \n",
      "7902      Belle      Central Region    Queenstown   1.27973  103.78751   \n",
      "7903       Neha      Central Region       Tanglin   1.29269  103.82623   \n",
      "7904      Mindy      Central Region       Kallang   1.31286  103.85996   \n",
      "7905      Huang      Central Region  River Valley   1.29543  103.83801   \n",
      "7906    Terence      Central Region  River Valley   1.29672  103.83325   \n",
      "\n",
      "            room_type  price  minimum_nights  number_of_reviews last_review  \\\n",
      "0        Private room     83             180                  1  2013-10-21   \n",
      "1        Private room     81              90                 18  2014-12-26   \n",
      "2        Private room     69               6                 20  2015-10-01   \n",
      "3        Private room    206               1                 14  2019-08-11   \n",
      "4        Private room     94               1                 22  2019-07-28   \n",
      "...               ...    ...             ...                ...         ...   \n",
      "7902  Entire home/apt    100               3                  0         NaN   \n",
      "7903  Entire home/apt    550               6                  0         NaN   \n",
      "7904     Private room     58              30                  0         NaN   \n",
      "7905     Private room     56              14                  0         NaN   \n",
      "7906     Private room     65              90                  0         NaN   \n",
      "\n",
      "      reviews_per_month  calculated_host_listings_count  availability_365  \n",
      "0                  0.01                               2               365  \n",
      "1                  0.28                               1               365  \n",
      "2                  0.20                               2               365  \n",
      "3                  0.15                               9               353  \n",
      "4                  0.22                               9               355  \n",
      "...                 ...                             ...               ...  \n",
      "7902                NaN                              31                61  \n",
      "7903                NaN                              34               365  \n",
      "7904                NaN                               3               173  \n",
      "7905                NaN                               2                30  \n",
      "7906                NaN                               7               365  \n",
      "\n",
      "[7907 rows x 16 columns]\n"
     ]
    }
   ],
   "source": [
    "import pandas as pd\n",
    "import numpy as np\n",
    "from numpy import mean,std\n",
    "from scipy.stats import norm\n",
    "import matplotlib.pyplot as plt\n",
    "from matplotlib import pyplot\n",
    "\n",
    "airData = pd.read_csv(\"listings.csv\")\n",
    "print(airData.dtypes)\n",
    "print(airData)"
   ]
  },
  {
   "cell_type": "code",
   "execution_count": 53,
   "metadata": {},
   "outputs": [
    {
     "name": "stdout",
     "output_type": "stream",
     "text": [
      "      price  minimum_nights  number_of_reviews  \\\n",
      "0        83             180                  1   \n",
      "1        81              90                 18   \n",
      "2        69               6                 20   \n",
      "3       206               1                 14   \n",
      "4        94               1                 22   \n",
      "...     ...             ...                ...   \n",
      "7902    100               3                  0   \n",
      "7903    550               6                  0   \n",
      "7904     58              30                  0   \n",
      "7905     56              14                  0   \n",
      "7906     65              90                  0   \n",
      "\n",
      "      calculated_host_listings_count  availability_365  \n",
      "0                                  2               365  \n",
      "1                                  1               365  \n",
      "2                                  2               365  \n",
      "3                                  9               353  \n",
      "4                                  9               355  \n",
      "...                              ...               ...  \n",
      "7902                              31                61  \n",
      "7903                              34               365  \n",
      "7904                               3               173  \n",
      "7905                               2                30  \n",
      "7906                               7               365  \n",
      "\n",
      "[7907 rows x 5 columns]\n",
      "      latitude  longitude  reviews_per_month\n",
      "0      1.44255  103.79580               0.01\n",
      "1      1.33235  103.78521               0.28\n",
      "2      1.44246  103.79667               0.20\n",
      "3      1.34541  103.95712               0.15\n",
      "4      1.34567  103.95963               0.22\n",
      "...        ...        ...                ...\n",
      "7902   1.27973  103.78751                NaN\n",
      "7903   1.29269  103.82623                NaN\n",
      "7904   1.31286  103.85996                NaN\n",
      "7905   1.29543  103.83801                NaN\n",
      "7906   1.29672  103.83325                NaN\n",
      "\n",
      "[7907 rows x 3 columns]\n"
     ]
    }
   ],
   "source": [
    "# DISCRETE RANDOM VARIABLES\n",
    "discreteRV = airData[[\"price\", \"minimum_nights\", \"number_of_reviews\", \"calculated_host_listings_count\", \"availability_365\"]]\n",
    "# CONTINUOUS RANDOM VARIABLES\n",
    "continuousRV = airData[[\"latitude\", \"longitude\", \"reviews_per_month\"]]\n",
    "\n",
    "print(discreteRV)\n",
    "print(continuousRV)"
   ]
  },
  {
   "cell_type": "code",
   "execution_count": 54,
   "metadata": {},
   "outputs": [
    {
     "name": "stdout",
     "output_type": "stream",
     "text": [
      "price                             169.332996\n",
      "minimum_nights                     17.510054\n",
      "number_of_reviews                  12.807386\n",
      "calculated_host_listings_count     40.607689\n",
      "availability_365                  208.726318\n",
      "dtype: float64\n",
      "\n",
      "price                             115712.966513\n",
      "minimum_nights                      1771.732636\n",
      "number_of_reviews                    882.438554\n",
      "calculated_host_listings_count      4242.064633\n",
      "availability_365                   21348.364203\n",
      "dtype: float64\n",
      "\n",
      "latitude               1.314192\n",
      "longitude            103.848787\n",
      "reviews_per_month      1.043669\n",
      "dtype: float64\n",
      "\n",
      "latitude             0.000935\n",
      "longitude            0.001907\n",
      "reviews_per_month    1.653092\n",
      "dtype: float64\n"
     ]
    }
   ],
   "source": [
    "# MEAN AND VARIANCE\n",
    "\n",
    "discreteMean = discreteRV.mean()\n",
    "discreteVar = np.var(discreteRV)\n",
    "\n",
    "continuousMean = continuousRV.mean()\n",
    "continuousVar = np.var(continuousRV)\n",
    "\n",
    "print(discreteMean)\n",
    "print()\n",
    "print(discreteVar)\n",
    "print()\n",
    "print(continuousMean)\n",
    "print()\n",
    "print(continuousVar)\n"
   ]
  },
  {
   "cell_type": "code",
   "execution_count": 55,
   "metadata": {},
   "outputs": [
    {
     "name": "stdout",
     "output_type": "stream",
     "text": [
      "   price  minimum_nights  number_of_reviews  calculated_host_listings_count  \\\n",
      "0     83             180                  1                               2   \n",
      "1     81              90                 18                               1   \n",
      "2     69               6                 20                               2   \n",
      "3    206               1                 14                               9   \n",
      "4     94               1                 22                               9   \n",
      "\n",
      "   availability_365  \n",
      "0               365  \n",
      "1               365  \n",
      "2               365  \n",
      "3               353  \n",
      "4               355  \n"
     ]
    }
   ],
   "source": [
    "discreteRVDtype = discreteRV.astype(int)\n",
    "print(discreteRVDtype.head())"
   ]
  },
  {
   "cell_type": "code",
   "execution_count": 56,
   "metadata": {},
   "outputs": [
    {
     "data": {
      "text/plain": [
       "(array([0.01072745, 0.00108106, 0.00198887, 0.00205817, 0.00267493,\n",
       "        0.00050588, 0.00083851, 0.00083158, 0.00141369, 0.00211361,\n",
       "        0.00031184, 0.00050588, 0.00070685, 0.00121273, 0.00174633,\n",
       "        0.00108799, 0.00194036, 0.00264028, 0.004151  , 0.01625749]),\n",
       " array([  0.  ,  18.25,  36.5 ,  54.75,  73.  ,  91.25, 109.5 , 127.75,\n",
       "        146.  , 164.25, 182.5 , 200.75, 219.  , 237.25, 255.5 , 273.75,\n",
       "        292.  , 310.25, 328.5 , 346.75, 365.  ]),\n",
       " <a list of 20 Patch objects>)"
      ]
     },
     "execution_count": 56,
     "metadata": {},
     "output_type": "execute_result"
    },
    {
     "data": {
      "image/png": "[encoded data removed]",
      "text/plain": [
       "<Figure size 432x288 with 1 Axes>"
      ]
     },
     "metadata": {
      "needs_background": "light"
     },
     "output_type": "display_data"
    }
   ],
   "source": [
    "#PLOT HISTOGRAM\n",
    "plt.hist(discreteRVDtype[\"availability_365\"], bins=20, density=True)"
   ]
  },
  {
   "cell_type": "code",
   "execution_count": 57,
   "metadata": {},
   "outputs": [],
   "source": [
    "# PLOT REMAINING WEIGHT\n",
    "latitude = continuousRV['latitude'].tolist()\n",
    "longitude = continuousRV['longitude'].tolist()\n",
    "testData = continuousRV"
   ]
  },
  {
   "cell_type": "code",
   "execution_count": 58,
   "metadata": {},
   "outputs": [
    {
     "data": {
      "text/plain": [
       "(array([  15.,    3.,  245., 1046.,  764., 1230., 2278.,  865.,  344.,\n",
       "         278.,  221.,  115.,  149.,   95.,   56.,   42.,   28.,   51.,\n",
       "          52.,   30.]),\n",
       " array([1.24387 , 1.254406, 1.264942, 1.275478, 1.286014, 1.29655 ,\n",
       "        1.307086, 1.317622, 1.328158, 1.338694, 1.34923 , 1.359766,\n",
       "        1.370302, 1.380838, 1.391374, 1.40191 , 1.412446, 1.422982,\n",
       "        1.433518, 1.444054, 1.45459 ]),\n",
       " <a list of 20 Patch objects>)"
      ]
     },
     "execution_count": 58,
     "metadata": {},
     "output_type": "execute_result"
    },
    {
     "data": {
      "image/png": "[encoded data removed]",
      "text/plain": [
       "<Figure size 432x288 with 1 Axes>"
      ]
     },
     "metadata": {
      "needs_background": "light"
     },
     "output_type": "display_data"
    }
   ],
   "source": [
    "plt.hist(latitude, bins=20)"
   ]
  },
  {
   "cell_type": "code",
   "execution_count": 59,
   "metadata": {},
   "outputs": [
    {
     "data": {
      "text/plain": [
       "(array([1.000e+00, 1.000e+00, 2.300e+01, 6.000e+01, 7.700e+01, 1.250e+02,\n",
       "        1.370e+02, 1.790e+02, 2.310e+02, 1.910e+02, 2.280e+02, 1.489e+03,\n",
       "        2.423e+03, 8.060e+02, 9.450e+02, 4.980e+02, 2.460e+02, 7.800e+01,\n",
       "        8.200e+01, 8.700e+01]),\n",
       " array([103.64656 , 103.662903, 103.679246, 103.695589, 103.711932,\n",
       "        103.728275, 103.744618, 103.760961, 103.777304, 103.793647,\n",
       "        103.80999 , 103.826333, 103.842676, 103.859019, 103.875362,\n",
       "        103.891705, 103.908048, 103.924391, 103.940734, 103.957077,\n",
       "        103.97342 ]),\n",
       " <a list of 20 Patch objects>)"
      ]
     },
     "execution_count": 59,
     "metadata": {},
     "output_type": "execute_result"
    },
    {
     "data": {
      "image/png": "[encoded data removed]",
      "text/plain": [
       "<Figure size 432x288 with 1 Axes>"
      ]
     },
     "metadata": {
      "needs_background": "light"
     },
     "output_type": "display_data"
    }
   ],
   "source": [
    "plt.hist(longitude, bins=20)"
   ]
  },
  {
   "cell_type": "code",
   "execution_count": 60,
   "metadata": {},
   "outputs": [
    {
     "name": "stdout",
     "output_type": "stream",
     "text": [
      "1.3141924649045151 0.030575510644587977\n",
      "103.84878745794865 0.04367188073148576\n"
     ]
    }
   ],
   "source": [
    "# MEAN AND STANDARD DEVIATION FOR NORMAL DISTRIBUTION\n",
    "latitudeMean = np.mean(latitude)\n",
    "latitudeStd = np.std(latitude)\n",
    "\n",
    "longitudeMean = np.mean(longitude)\n",
    "longitudeStd = np.std(longitude)\n",
    "\n",
    "print(latitudeMean, latitudeStd)\n",
    "print(longitudeMean, longitudeStd)"
   ]
  },
  {
   "cell_type": "code",
   "execution_count": 61,
   "metadata": {},
   "outputs": [],
   "source": [
    "# PARAMETERS FOR NORMAL DISTRIBUTION\n",
    "latitudeDistribution = norm(latitudeMean, latitudeStd)\n",
    "longitudeDistribution = norm(longitudeMean, longitudeStd)"
   ]
  },
  {
   "cell_type": "code",
   "execution_count": 62,
   "metadata": {},
   "outputs": [],
   "source": [
    "# PDF PLOT RANGE\n",
    "latitudeMin_Weight = min(latitude)\n",
    "latitudeMax_Weight = max(latitude)\n",
    "latitudeValues = list(range(int(latitudeMin_Weight), int(latitudeMax_Weight)))\n",
    "\n",
    "longitudeMin_Weight = min(longitude)\n",
    "longitudeMax_Weight = max(longitude)\n",
    "longitudeValues = list(range(int(longitudeMin_Weight), int (longitudeMax_Weight)))"
   ]
  },
  {
   "cell_type": "code",
   "execution_count": 63,
   "metadata": {},
   "outputs": [],
   "source": [
    "# PROBABILITIES FOR THE RANGE\n",
    "latitudeProb = [latitudeDistribution.pdf(v) for v in latitudeValues]\n",
    "longitudeProb = [longitudeDistribution.pdf(v) for v in longitudeValues]"
   ]
  },
  {
   "cell_type": "code",
   "execution_count": 64,
   "metadata": {},
   "outputs": [
    {
     "data": {
      "text/plain": [
       "[<matplotlib.lines.Line2D at 0x1a27c6f490>]"
      ]
     },
     "execution_count": 64,
     "metadata": {},
     "output_type": "execute_result"
    },
    {
     "data": {
      "image/png": "[encoded data removed]",
      "text/plain": [
       "<Figure size 432x288 with 1 Axes>"
      ]
     },
     "metadata": {
      "needs_background": "light"
     },
     "output_type": "display_data"
    }
   ],
   "source": [
    "# PLOT SAMPLE DISTRIBUTION AND PDF\n",
    "pyplot.hist(latitude, bins=20, density=True)\n",
    "pyplot.plot(latitudeValues, latitudeProb)"
   ]
  },
  {
   "cell_type": "code",
   "execution_count": 65,
   "metadata": {},
   "outputs": [
    {
     "data": {
      "text/plain": [
       "[<matplotlib.lines.Line2D at 0x1a27d7ae90>]"
      ]
     },
     "execution_count": 65,
     "metadata": {},
     "output_type": "execute_result"
    },
    {
     "data": {
      "image/png": "[encoded data removed]",
      "text/plain": [
       "<Figure size 432x288 with 1 Axes>"
      ]
     },
     "metadata": {
      "needs_background": "light"
     },
     "output_type": "display_data"
    }
   ],
   "source": [
    "pyplot.hist(longitude, bins=20, density=True)\n",
    "pyplot.plot(longitudeValues, longitudeProb)"
   ]
  },
  {
   "cell_type": "code",
   "execution_count": null,
   "metadata": {},
   "outputs": [],
   "source": []
  }
 ],
 "metadata": {
  "kernelspec": {
   "display_name": "Python 3",
   "language": "python",
   "name": "python3"
  },
  "language_info": {
   "codemirror_mode": {
    "name": "ipython",
    "version": 3
   },
   "file_extension": ".py",
   "mimetype": "text/x-python",
   "name": "python",
   "nbconvert_exporter": "python",
   "pygments_lexer": "ipython3",
   "version": "3.7.6"
  }
 },
 "nbformat": 4,
 "nbformat_minor": 4
}
